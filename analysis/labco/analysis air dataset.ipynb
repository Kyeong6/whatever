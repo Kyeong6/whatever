{
 "cells": [
  {
   "cell_type": "code",
   "execution_count": 66,
   "id": "bc9a0426-77ed-4f05-b63c-d71ba3cdec79",
   "metadata": {},
   "outputs": [],
   "source": [
    "import os\n",
    "import numpy as np\n",
    "import pandas as pd\n",
    "\n",
    "import seaborn as sns\n",
    "import plotly.express as px\n",
    "import matplotlib.pyplot as plt\n",
    "%matplotlib inline"
   ]
  },
  {
   "cell_type": "markdown",
   "id": "b34f9611-67db-4b8e-9bbe-d05266adcfd3",
   "metadata": {},
   "source": [
    "#### 데이터 읽어오기"
   ]
  },
  {
   "cell_type": "markdown",
   "id": "19549138-ea56-4c77-bc20-9e4937c5df3f",
   "metadata": {},
   "source": [
    "- pd.ExcelFile()\n",
    "    - `Excel 파일의 메타데이터(시트이름) 확인 및 파일 내에 여러 시트에 접근`하기 위해 사용\n",
    "    - 파일을 한번만 읽고 여러 시트를 반복적으로 사용할 때 유용함\n",
    "    - 메타데이터를 확인하거나 여러 시트를 한번에 읽어와야 할 때 유용함\n",
    "    - 파일을 한번 로드한 후 각 시트를 별도로 읽어와야 하므로, 특정 시트를 바로 읽어오는 데에 추가 단계가 필요함\n",
    " \n",
    "- pd.read_excel()\n",
    "    - Excel파일의 특정 시트 또는 여러 시트를 한번에 읽어오기 위해 사용\n",
    "    - 특정 시트 또는 여러 시트를 바로 읽어올 수 있어 코드가 간결함\n",
    "    - `시트 하나만 필요할때` 유용\n",
    "    - 파일을 여러번 읽어야 할 때 비효율적일 수 있음"
   ]
  },
  {
   "cell_type": "code",
   "execution_count": 62,
   "id": "a7f0652c-04b9-4eb1-aa3b-0515700476ef",
   "metadata": {},
   "outputs": [
    {
     "name": "stdout",
     "output_type": "stream",
     "text": [
      "CPU times: total: 46 s\n",
      "Wall time: 47.5 s\n"
     ]
    }
   ],
   "source": [
    "%%time\n",
    "\n",
    "TMS = pd.read_excel(\"../../dataFiles/csv/airMeasurement/TMS_all.xlsx\")\n",
    "TMS_jungnang = pd.read_excel(\"../../dataFiles/csv/airMeasurement/TMS_all.xlsx\", sheet_name='중랑구')\n",
    "TMS_seongdong = pd.read_excel(\"../../dataFiles/csv/airMeasurement/TMS_all.xlsx\", sheet_name='성동구')\n",
    "TMS_mapo = pd.read_excel(\"../../dataFiles/csv/airMeasurement/TMS_all.xlsx\", sheet_name='마포구')\n",
    "TMS_gwangjin = pd.read_excel(\"../../dataFiles/csv/airMeasurement/TMS_all.xlsx\", sheet_name='광진구')\n",
    "TMS_gangdong = pd.read_excel(\"../../dataFiles/csv/airMeasurement/TMS_all.xlsx\", sheet_name='강동구')"
   ]
  },
  {
   "cell_type": "code",
   "execution_count": 63,
   "id": "38708e1b-49cf-4908-a0d7-a3410151ab47",
   "metadata": {},
   "outputs": [
    {
     "name": "stdout",
     "output_type": "stream",
     "text": [
      "['132', '136', '502', '503', '531', '572', '573', '625', '711', '789', '792']\n"
     ]
    }
   ],
   "source": [
    "# 강동구 데이터셋 읽어오기 : 전체 및 각 sheet이름 확인\n",
    "gangdong = pd.ExcelFile(\"../../dataFiles/csv/airMeasurement/강동구.xlsx\")\n",
    "\n",
    "sheet_names_GA = gangdong.sheet_names\n",
    "print(sheet_names_GA)"
   ]
  },
  {
   "cell_type": "code",
   "execution_count": 70,
   "id": "4e206891-a596-4b66-8e07-b0fcd640aaa4",
   "metadata": {},
   "outputs": [
    {
     "name": "stdout",
     "output_type": "stream",
     "text": [
      "CPU times: total: 1min 31s\n",
      "Wall time: 1min 33s\n"
     ]
    }
   ],
   "source": [
    "%%time\n",
    "\n",
    "gangdong_132 = pd.read_excel(\"../../dataFiles/csv/airMeasurement/강동구.xlsx\", sheet_name='132')\n",
    "gangdong_136 = pd.read_excel(\"../../dataFiles/csv/airMeasurement/강동구.xlsx\", sheet_name='136')\n",
    "gangdong_502 = pd.read_excel(\"../../dataFiles/csv/airMeasurement/강동구.xlsx\", sheet_name='502')\n",
    "gangdong_503 = pd.read_excel(\"../../dataFiles/csv/airMeasurement/강동구.xlsx\", sheet_name='503')\n",
    "gangdong_531 = pd.read_excel(\"../../dataFiles/csv/airMeasurement/강동구.xlsx\", sheet_name='531')\n",
    "gangdong_572 = pd.read_excel(\"../../dataFiles/csv/airMeasurement/강동구.xlsx\", sheet_name='572')\n",
    "gangdong_573 = pd.read_excel(\"../../dataFiles/csv/airMeasurement/강동구.xlsx\", sheet_name='573')\n",
    "gangdong_625 = pd.read_excel(\"../../dataFiles/csv/airMeasurement/강동구.xlsx\", sheet_name='625')\n",
    "gangdong_711 = pd.read_excel(\"../../dataFiles/csv/airMeasurement/강동구.xlsx\", sheet_name='711')\n",
    "gangdong_789 = pd.read_excel(\"../../dataFiles/csv/airMeasurement/강동구.xlsx\", sheet_name='789')\n",
    "gangdong_792 = pd.read_excel(\"../../dataFiles/csv/airMeasurement/강동구.xlsx\", sheet_name='792')"
   ]
  },
  {
   "cell_type": "code",
   "execution_count": 71,
   "id": "3b1a44fd-6166-4146-89c6-c4097a50c907",
   "metadata": {},
   "outputs": [
    {
     "name": "stdout",
     "output_type": "stream",
     "text": [
      "['112', '113', '508', '536', '537', '566', '582', '583', '629', '716', '744', '749', '794']\n"
     ]
    }
   ],
   "source": [
    "# 광진구 데이터셋 읽어오기 : 전체 및 각 sheet이름 확인\n",
    "gwangjin = pd.ExcelFile(\"../../dataFiles/csv/airMeasurement/광진구.xlsx\")\n",
    "\n",
    "sheet_names_GW = gwangjin.sheet_names\n",
    "print(sheet_names_GW)"
   ]
  },
  {
   "cell_type": "code",
   "execution_count": 72,
   "id": "4ec48d10-b2db-4404-96fe-f1d4f2c781ad",
   "metadata": {},
   "outputs": [
    {
     "name": "stdout",
     "output_type": "stream",
     "text": [
      "CPU times: total: 2min 3s\n",
      "Wall time: 2min 7s\n"
     ]
    }
   ],
   "source": [
    "%%time\n",
    "\n",
    "for sheet in sheet_names_GW:\n",
    "    globals()[f'gwangjin_{sheet}'] = pd.read_excel(\"../../dataFiles/csv/airMeasurement/광진구.xlsx\", sheet_name=sheet)"
   ]
  },
  {
   "cell_type": "code",
   "execution_count": 73,
   "id": "f685356e-0db6-43b5-b17a-04b8fa993a09",
   "metadata": {},
   "outputs": [
    {
     "name": "stdout",
     "output_type": "stream",
     "text": [
      "['135', '137', '515', '516', '599', '600', '637', '706', '707', '714', '750', '781', '786']\n"
     ]
    }
   ],
   "source": [
    "# 마포구 데이터셋 읽어오기 : 전체 및 각 sheet이름 확인\n",
    "mapo = pd.ExcelFile(\"../../dataFiles/csv/airMeasurement/마포구.xlsx\")\n",
    "\n",
    "sheet_names_M = mapo.sheet_names\n",
    "print(sheet_names_M)"
   ]
  },
  {
   "cell_type": "code",
   "execution_count": 74,
   "id": "fc23edd7-a085-47d4-9506-9b2f09f8dda9",
   "metadata": {},
   "outputs": [
    {
     "name": "stdout",
     "output_type": "stream",
     "text": [
      "CPU times: total: 2min 2s\n",
      "Wall time: 2min 5s\n"
     ]
    }
   ],
   "source": [
    "# 마포구 데이터셋 시트분리\n",
    "%%time\n",
    "\n",
    "mapo_135 = pd.read_excel(\"../../dataFiles/csv/airMeasurement/마포구.xlsx\", sheet_name='135')\n",
    "mapo_137 = pd.read_excel(\"../../dataFiles/csv/airMeasurement/마포구.xlsx\", sheet_name='137')\n",
    "mapo_515 = pd.read_excel(\"../../dataFiles/csv/airMeasurement/마포구.xlsx\", sheet_name='515')\n",
    "mapo_516 = pd.read_excel(\"../../dataFiles/csv/airMeasurement/마포구.xlsx\", sheet_name='516')\n",
    "mapo_599 = pd.read_excel(\"../../dataFiles/csv/airMeasurement/마포구.xlsx\", sheet_name='599')\n",
    "mapo_600 = pd.read_excel(\"../../dataFiles/csv/airMeasurement/마포구.xlsx\", sheet_name='600')\n",
    "mapo_637 = pd.read_excel(\"../../dataFiles/csv/airMeasurement/마포구.xlsx\", sheet_name='637')\n",
    "mapo_706 = pd.read_excel(\"../../dataFiles/csv/airMeasurement/마포구.xlsx\", sheet_name='706')\n",
    "mapo_707 = pd.read_excel(\"../../dataFiles/csv/airMeasurement/마포구.xlsx\", sheet_name='707')\n",
    "mapo_714 = pd.read_excel(\"../../dataFiles/csv/airMeasurement/마포구.xlsx\", sheet_name='714')\n",
    "mapo_750 = pd.read_excel(\"../../dataFiles/csv/airMeasurement/마포구.xlsx\", sheet_name='750')\n",
    "mapo_781 = pd.read_excel(\"../../dataFiles/csv/airMeasurement/마포구.xlsx\", sheet_name='781')\n",
    "mapo_786 = pd.read_excel(\"../../dataFiles/csv/airMeasurement/마포구.xlsx\", sheet_name='786')"
   ]
  },
  {
   "cell_type": "code",
   "execution_count": 56,
   "id": "9a78bdd6-beaf-4a89-a9a4-35d16b40dc72",
   "metadata": {},
   "outputs": [
    {
     "name": "stdout",
     "output_type": "stream",
     "text": [
      "['114', '134', '141', '517', '552', '553', '607', '608', '639', '640', '718', '727', '740', '757', '761', '764', '772', '773']\n"
     ]
    }
   ],
   "source": [
    "# 성동구 데이터셋 읽어오기 : 전체 및 각 sheet이름 확인\n",
    "seongdong = pd.ExcelFile(\"../../dataFiles/csv/airMeasurement/성동구.xlsx\")\n",
    "\n",
    "sheet_names_S = seongdong.sheet_names\n",
    "print(sheet_names_S)"
   ]
  },
  {
   "cell_type": "code",
   "execution_count": 75,
   "id": "67fc9ac9-bf11-4b7f-940f-552dc1fea44f",
   "metadata": {},
   "outputs": [
    {
     "name": "stdout",
     "output_type": "stream",
     "text": [
      "CPU times: total: 2min 46s\n",
      "Wall time: 2min 51s\n"
     ]
    }
   ],
   "source": [
    "%%time\n",
    "\n",
    "for sheet in sheet_names_S:\n",
    "    globals()[f'seongdong_{sheet}'] = pd.read_excel(\"../../dataFiles/csv/airMeasurement/성동구.xlsx\", sheet_name=sheet)\n"
   ]
  },
  {
   "cell_type": "code",
   "execution_count": 76,
   "id": "6c3b9d8f-843a-4a5c-bc52-9a751964aecc",
   "metadata": {},
   "outputs": [
    {
     "name": "stdout",
     "output_type": "stream",
     "text": [
      "['117', '127', '139', '163', '170', '525', '619', '620', '621', '647', '648', '649', '730', '736', '755', '756']\n"
     ]
    }
   ],
   "source": [
    "# 중랑구 데이터셋 읽어오기 : 전체 및 각 sheet이름 확인\n",
    "jungnang = pd.ExcelFile(\"../../dataFiles/csv/airMeasurement/중랑구.xlsx\")\n",
    "\n",
    "sheet_names_J = jungnang.sheet_names\n",
    "print(sheet_names_J)"
   ]
  },
  {
   "cell_type": "code",
   "execution_count": 77,
   "id": "488af70a-8e34-4b20-856d-8f72fafca8da",
   "metadata": {},
   "outputs": [
    {
     "name": "stdout",
     "output_type": "stream",
     "text": [
      "CPU times: total: 1min 22s\n",
      "Wall time: 1min 24s\n"
     ]
    }
   ],
   "source": [
    "%%time\n",
    "\n",
    "for sheet in sheet_names_J:\n",
    "    globals()[f'jungnang_{sheet}'] = pd.read_excel(\"../../dataFiles/csv/airMeasurement/중랑구.xlsx\", sheet_name=sheet)"
   ]
  },
  {
   "cell_type": "markdown",
   "id": "21f51e3e-089d-4d2c-95a3-62faac7010ce",
   "metadata": {},
   "source": [
    "#### 데이터 구조파악"
   ]
  },
  {
   "cell_type": "code",
   "execution_count": 15,
   "id": "eaa8f0b8-69fc-4c23-829b-990f947239ce",
   "metadata": {},
   "outputs": [
    {
     "name": "stdout",
     "output_type": "stream",
     "text": [
      "<class 'pandas.core.frame.DataFrame'>\n",
      "RangeIndex: 19011 entries, 0 to 19010\n",
      "Data columns (total 29 columns):\n",
      " #   Column  Non-Null Count  Dtype  \n",
      "---  ------  --------------  -----  \n",
      " 0   년       19011 non-null  object \n",
      " 1   월       19008 non-null  float64\n",
      " 2   일       19008 non-null  float64\n",
      " 3   시       19008 non-null  float64\n",
      " 4   분       19008 non-null  float64\n",
      " 5   측정소     19008 non-null  object \n",
      " 6   PM2.5   19011 non-null  object \n",
      " 7   PM10    19011 non-null  object \n",
      " 8   CH01    19011 non-null  object \n",
      " 9   CH02    19011 non-null  object \n",
      " 10  CH03    19011 non-null  object \n",
      " 11  CH04    19011 non-null  object \n",
      " 12  CH05    19011 non-null  object \n",
      " 13  CH06    19011 non-null  object \n",
      " 14  CH07    19011 non-null  object \n",
      " 15  CH08    19011 non-null  object \n",
      " 16  CH09    19011 non-null  object \n",
      " 17  CH10    19011 non-null  object \n",
      " 18  CH11    19011 non-null  object \n",
      " 19  CH12    19011 non-null  object \n",
      " 20  CH13    19011 non-null  object \n",
      " 21  CH14    19011 non-null  object \n",
      " 22  CH15    19011 non-null  object \n",
      " 23  CH16    19011 non-null  object \n",
      " 24  CH17    19011 non-null  object \n",
      " 25  CH18    19011 non-null  object \n",
      " 26  CH19    19011 non-null  object \n",
      " 27  PUA     19011 non-null  object \n",
      " 28  SEA     19011 non-null  object \n",
      "dtypes: float64(4), object(25)\n",
      "memory usage: 4.2+ MB\n",
      "None\n"
     ]
    }
   ],
   "source": [
    "print(gangdong.info())"
   ]
  },
  {
   "cell_type": "code",
   "execution_count": 16,
   "id": "2e933cf5-509f-47dc-b3ac-dfdac0d041c0",
   "metadata": {},
   "outputs": [
    {
     "name": "stdout",
     "output_type": "stream",
     "text": [
      "<class 'pandas.core.frame.DataFrame'>\n",
      "RangeIndex: 19011 entries, 0 to 19010\n",
      "Data columns (total 29 columns):\n",
      " #   Column  Non-Null Count  Dtype  \n",
      "---  ------  --------------  -----  \n",
      " 0   년       19011 non-null  object \n",
      " 1   월       19008 non-null  float64\n",
      " 2   일       19008 non-null  float64\n",
      " 3   시       19008 non-null  float64\n",
      " 4   분       19008 non-null  float64\n",
      " 5   측정소     19008 non-null  object \n",
      " 6   PM2.5   19011 non-null  object \n",
      " 7   PM10    19011 non-null  object \n",
      " 8   CH01    19011 non-null  object \n",
      " 9   CH02    19011 non-null  object \n",
      " 10  CH03    19011 non-null  object \n",
      " 11  CH04    19011 non-null  object \n",
      " 12  CH05    19011 non-null  object \n",
      " 13  CH06    19011 non-null  object \n",
      " 14  CH07    19011 non-null  object \n",
      " 15  CH08    19011 non-null  object \n",
      " 16  CH09    19011 non-null  object \n",
      " 17  CH10    19011 non-null  object \n",
      " 18  CH11    19011 non-null  object \n",
      " 19  CH12    19011 non-null  object \n",
      " 20  CH13    19011 non-null  object \n",
      " 21  CH14    19011 non-null  object \n",
      " 22  CH15    19011 non-null  object \n",
      " 23  CH16    19011 non-null  object \n",
      " 24  CH17    19011 non-null  object \n",
      " 25  CH18    19011 non-null  object \n",
      " 26  CH19    19011 non-null  object \n",
      " 27  PUA     19011 non-null  object \n",
      " 28  SEA     19011 non-null  object \n",
      "dtypes: float64(4), object(25)\n",
      "memory usage: 4.2+ MB\n",
      "None\n"
     ]
    }
   ],
   "source": [
    "print(gwangjin.info())"
   ]
  },
  {
   "cell_type": "code",
   "execution_count": 17,
   "id": "f900261d-e54e-4304-9b35-ad97002c85b6",
   "metadata": {},
   "outputs": [
    {
     "name": "stdout",
     "output_type": "stream",
     "text": [
      "<class 'pandas.core.frame.DataFrame'>\n",
      "RangeIndex: 19012 entries, 0 to 19011\n",
      "Data columns (total 29 columns):\n",
      " #   Column  Non-Null Count  Dtype  \n",
      "---  ------  --------------  -----  \n",
      " 0   년       19012 non-null  object \n",
      " 1   월       19009 non-null  float64\n",
      " 2   일       19009 non-null  float64\n",
      " 3   시       19009 non-null  float64\n",
      " 4   분       19009 non-null  float64\n",
      " 5   측정소     19009 non-null  object \n",
      " 6   PM2.5   19012 non-null  object \n",
      " 7   PM10    19012 non-null  object \n",
      " 8   CH01    19012 non-null  object \n",
      " 9   CH02    19012 non-null  object \n",
      " 10  CH03    19012 non-null  object \n",
      " 11  CH04    19012 non-null  object \n",
      " 12  CH05    19012 non-null  object \n",
      " 13  CH06    19012 non-null  object \n",
      " 14  CH07    19012 non-null  object \n",
      " 15  CH08    19012 non-null  object \n",
      " 16  CH09    19012 non-null  object \n",
      " 17  CH10    19012 non-null  object \n",
      " 18  CH11    19012 non-null  object \n",
      " 19  CH12    19012 non-null  object \n",
      " 20  CH13    19012 non-null  object \n",
      " 21  CH14    19012 non-null  object \n",
      " 22  CH15    19012 non-null  object \n",
      " 23  CH16    19012 non-null  object \n",
      " 24  CH17    19012 non-null  object \n",
      " 25  CH18    19012 non-null  object \n",
      " 26  CH19    19012 non-null  object \n",
      " 27  PUA     19012 non-null  object \n",
      " 28  SEA     19012 non-null  object \n",
      "dtypes: float64(4), object(25)\n",
      "memory usage: 4.2+ MB\n",
      "None\n"
     ]
    }
   ],
   "source": [
    "print(mapo.info())"
   ]
  },
  {
   "cell_type": "code",
   "execution_count": 18,
   "id": "7f8ea58f-3e62-4e41-bd3c-a0dffdebb3f7",
   "metadata": {},
   "outputs": [
    {
     "name": "stdout",
     "output_type": "stream",
     "text": [
      "<class 'pandas.core.frame.DataFrame'>\n",
      "RangeIndex: 19013 entries, 0 to 19012\n",
      "Data columns (total 29 columns):\n",
      " #   Column  Non-Null Count  Dtype  \n",
      "---  ------  --------------  -----  \n",
      " 0   년       19013 non-null  object \n",
      " 1   월       19010 non-null  float64\n",
      " 2   일       19010 non-null  float64\n",
      " 3   시       19010 non-null  float64\n",
      " 4   분       19010 non-null  float64\n",
      " 5   측정소     19010 non-null  object \n",
      " 6   PM2.5   19013 non-null  object \n",
      " 7   PM10    19013 non-null  object \n",
      " 8   CH01    19013 non-null  object \n",
      " 9   CH02    19013 non-null  object \n",
      " 10  CH03    19013 non-null  object \n",
      " 11  CH04    19013 non-null  object \n",
      " 12  CH05    19013 non-null  object \n",
      " 13  CH06    19013 non-null  object \n",
      " 14  CH07    19013 non-null  object \n",
      " 15  CH08    19013 non-null  object \n",
      " 16  CH09    19013 non-null  object \n",
      " 17  CH10    19013 non-null  object \n",
      " 18  CH11    19013 non-null  object \n",
      " 19  CH12    19013 non-null  object \n",
      " 20  CH13    19013 non-null  object \n",
      " 21  CH14    19013 non-null  object \n",
      " 22  CH15    19013 non-null  object \n",
      " 23  CH16    19013 non-null  object \n",
      " 24  CH17    19013 non-null  object \n",
      " 25  CH18    19013 non-null  object \n",
      " 26  CH19    19013 non-null  object \n",
      " 27  PUA     19013 non-null  object \n",
      " 28  SEA     19013 non-null  object \n",
      "dtypes: float64(4), object(25)\n",
      "memory usage: 4.2+ MB\n",
      "None\n"
     ]
    }
   ],
   "source": [
    "print(seongdong.info())"
   ]
  },
  {
   "cell_type": "code",
   "execution_count": 19,
   "id": "c90de568-8b58-4891-b64e-027953017a45",
   "metadata": {},
   "outputs": [
    {
     "name": "stdout",
     "output_type": "stream",
     "text": [
      "<class 'pandas.core.frame.DataFrame'>\n",
      "RangeIndex: 19011 entries, 0 to 19010\n",
      "Data columns (total 17 columns):\n",
      " #   Column  Non-Null Count  Dtype  \n",
      "---  ------  --------------  -----  \n",
      " 0   년       19011 non-null  object \n",
      " 1   월       19008 non-null  float64\n",
      " 2   일       19008 non-null  float64\n",
      " 3   시       19008 non-null  float64\n",
      " 4   분       19008 non-null  float64\n",
      " 5   측정소     19008 non-null  object \n",
      " 6   PM2.5   19011 non-null  object \n",
      " 7   PM10    19011 non-null  object \n",
      " 8   CH01    19011 non-null  object \n",
      " 9   CH02    19011 non-null  object \n",
      " 10  CH03    19011 non-null  object \n",
      " 11  CH04    19011 non-null  object \n",
      " 12  CH05    19011 non-null  object \n",
      " 13  CH06    19011 non-null  object \n",
      " 14  CH07    19011 non-null  object \n",
      " 15  CH08    19011 non-null  object \n",
      " 16  CH09    19011 non-null  object \n",
      "dtypes: float64(4), object(13)\n",
      "memory usage: 2.5+ MB\n",
      "None\n"
     ]
    }
   ],
   "source": [
    "print(jungnang.info())"
   ]
  },
  {
   "cell_type": "code",
   "execution_count": 14,
   "id": "282e206a-77ba-4822-a6d7-ab8ab2a60ccc",
   "metadata": {},
   "outputs": [
    {
     "name": "stdout",
     "output_type": "stream",
     "text": [
      "<class 'pandas.core.frame.DataFrame'>\n",
      "RangeIndex: 78613 entries, 0 to 78612\n",
      "Data columns (total 56 columns):\n",
      " #   Column  Non-Null Count  Dtype  \n",
      "---  ------  --------------  -----  \n",
      " 0   년       78613 non-null  int64  \n",
      " 1   월       78613 non-null  int64  \n",
      " 2   일       78613 non-null  int64  \n",
      " 3   시       78613 non-null  int64  \n",
      " 4   분       78613 non-null  int64  \n",
      " 5   측정소     78613 non-null  object \n",
      " 6   PM2.5   78613 non-null  object \n",
      " 7   PM10    78613 non-null  object \n",
      " 8   TSP     0 non-null      float64\n",
      " 9   PM1.0   0 non-null      float64\n",
      " 10  NO      78613 non-null  object \n",
      " 11  NO2     78613 non-null  object \n",
      " 12  NOx     78613 non-null  object \n",
      " 13  CO      78613 non-null  object \n",
      " 14  O3      78613 non-null  object \n",
      " 15  SO2     78613 non-null  object \n",
      " 16  WD      78613 non-null  object \n",
      " 17  WS      78613 non-null  object \n",
      " 18  TEMP    78613 non-null  object \n",
      " 19  UVA     0 non-null      float64\n",
      " 20  HUM     78613 non-null  object \n",
      " 21  UVB     0 non-null      float64\n",
      " 22  Solra   0 non-null      float64\n",
      " 23  CH4     0 non-null      float64\n",
      " 24  NMHC    0 non-null      float64\n",
      " 25  THC     0 non-null      float64\n",
      " 26  Hg      0 non-null      float64\n",
      " 27  GCO2    0 non-null      float64\n",
      " 28  OC      0 non-null      float64\n",
      " 29  EC      0 non-null      float64\n",
      " 30  TC      0 non-null      float64\n",
      " 31  Vis R   0 non-null      float64\n",
      " 32  NH3     0 non-null      float64\n",
      " 33  H2O     0 non-null      float64\n",
      " 34  C12     0 non-null      float64\n",
      " 35  C13     0 non-null      float64\n",
      " 36  D12     0 non-null      float64\n",
      " 37  D13     0 non-null      float64\n",
      " 38  TMI     0 non-null      float64\n",
      " 39  A_BC1   0 non-null      float64\n",
      " 40  A_BC2   0 non-null      float64\n",
      " 41  H_BC1   0 non-null      float64\n",
      " 42  H_BC9   0 non-null      float64\n",
      " 43  A_BC3   0 non-null      float64\n",
      " 44  A_BC4   0 non-null      float64\n",
      " 45  CO_임시   0 non-null      float64\n",
      " 46  PM10_1  0 non-null      float64\n",
      " 47  PM10_2  0 non-null      float64\n",
      " 48  PM10_3  0 non-null      float64\n",
      " 49  PM10_4  0 non-null      float64\n",
      " 50  PM10_5  0 non-null      float64\n",
      " 51  PM25_1  0 non-null      float64\n",
      " 52  PM25_2  0 non-null      float64\n",
      " 53  PM25_3  0 non-null      float64\n",
      " 54  PM25_4  0 non-null      float64\n",
      " 55  PM25_5  0 non-null      float64\n",
      "dtypes: float64(38), int64(5), object(13)\n",
      "memory usage: 33.6+ MB\n",
      "None\n"
     ]
    }
   ],
   "source": [
    "print(TMS.info())"
   ]
  },
  {
   "cell_type": "code",
   "execution_count": 26,
   "id": "30cbca89-2d20-4b45-86f2-0c78dcb8223b",
   "metadata": {},
   "outputs": [
    {
     "name": "stdout",
     "output_type": "stream",
     "text": [
      "<class 'pandas.core.frame.DataFrame'>\n",
      "RangeIndex: 78613 entries, 0 to 78612\n",
      "Data columns (total 56 columns):\n",
      " #   Column  Non-Null Count  Dtype  \n",
      "---  ------  --------------  -----  \n",
      " 0   년       78613 non-null  int64  \n",
      " 1   월       78613 non-null  int64  \n",
      " 2   일       78613 non-null  int64  \n",
      " 3   시       78613 non-null  int64  \n",
      " 4   분       78613 non-null  int64  \n",
      " 5   측정소     78613 non-null  object \n",
      " 6   PM2.5   78613 non-null  object \n",
      " 7   PM10    78613 non-null  object \n",
      " 8   TSP     0 non-null      float64\n",
      " 9   PM1.0   0 non-null      float64\n",
      " 10  NO      78613 non-null  object \n",
      " 11  NO2     78613 non-null  object \n",
      " 12  NOx     78613 non-null  object \n",
      " 13  CO      78613 non-null  object \n",
      " 14  O3      78613 non-null  object \n",
      " 15  SO2     78613 non-null  object \n",
      " 16  WD      78613 non-null  object \n",
      " 17  WS      78613 non-null  object \n",
      " 18  TEMP    78613 non-null  object \n",
      " 19  UVA     0 non-null      float64\n",
      " 20  HUM     78613 non-null  object \n",
      " 21  UVB     0 non-null      float64\n",
      " 22  Solra   0 non-null      float64\n",
      " 23  CH4     0 non-null      float64\n",
      " 24  NMHC    0 non-null      float64\n",
      " 25  THC     0 non-null      float64\n",
      " 26  Hg      0 non-null      float64\n",
      " 27  GCO2    0 non-null      float64\n",
      " 28  OC      0 non-null      float64\n",
      " 29  EC      0 non-null      float64\n",
      " 30  TC      0 non-null      float64\n",
      " 31  Vis R   0 non-null      float64\n",
      " 32  NH3     0 non-null      float64\n",
      " 33  H2O     0 non-null      float64\n",
      " 34  C12     0 non-null      float64\n",
      " 35  C13     0 non-null      float64\n",
      " 36  D12     0 non-null      float64\n",
      " 37  D13     0 non-null      float64\n",
      " 38  TMI     0 non-null      float64\n",
      " 39  A_BC1   0 non-null      float64\n",
      " 40  A_BC2   0 non-null      float64\n",
      " 41  H_BC1   0 non-null      float64\n",
      " 42  H_BC9   0 non-null      float64\n",
      " 43  A_BC3   0 non-null      float64\n",
      " 44  A_BC4   0 non-null      float64\n",
      " 45  CO_임시   0 non-null      float64\n",
      " 46  PM10_1  0 non-null      float64\n",
      " 47  PM10_2  0 non-null      float64\n",
      " 48  PM10_3  0 non-null      float64\n",
      " 49  PM10_4  0 non-null      float64\n",
      " 50  PM10_5  0 non-null      float64\n",
      " 51  PM25_1  0 non-null      float64\n",
      " 52  PM25_2  0 non-null      float64\n",
      " 53  PM25_3  0 non-null      float64\n",
      " 54  PM25_4  0 non-null      float64\n",
      " 55  PM25_5  0 non-null      float64\n",
      "dtypes: float64(38), int64(5), object(13)\n",
      "memory usage: 33.6+ MB\n",
      "None\n"
     ]
    }
   ],
   "source": [
    "print(TMS_jungnang.info())"
   ]
  },
  {
   "cell_type": "code",
   "execution_count": 27,
   "id": "1cac175e-5257-4579-914b-1a3e62db9f0f",
   "metadata": {},
   "outputs": [
    {
     "name": "stdout",
     "output_type": "stream",
     "text": [
      "<class 'pandas.core.frame.DataFrame'>\n",
      "RangeIndex: 78584 entries, 0 to 78583\n",
      "Data columns (total 56 columns):\n",
      " #   Column  Non-Null Count  Dtype  \n",
      "---  ------  --------------  -----  \n",
      " 0   년       78584 non-null  int64  \n",
      " 1   월       78584 non-null  int64  \n",
      " 2   일       78584 non-null  int64  \n",
      " 3   시       78584 non-null  int64  \n",
      " 4   분       78584 non-null  int64  \n",
      " 5   측정소     78584 non-null  object \n",
      " 6   PM2.5   78584 non-null  object \n",
      " 7   PM10    78584 non-null  object \n",
      " 8   TSP     0 non-null      float64\n",
      " 9   PM1.0   0 non-null      float64\n",
      " 10  NO      78584 non-null  object \n",
      " 11  NO2     78584 non-null  object \n",
      " 12  NOx     78584 non-null  object \n",
      " 13  CO      78584 non-null  object \n",
      " 14  O3      78584 non-null  object \n",
      " 15  SO2     78584 non-null  object \n",
      " 16  WD      78584 non-null  object \n",
      " 17  WS      78584 non-null  object \n",
      " 18  TEMP    78584 non-null  object \n",
      " 19  UVA     0 non-null      float64\n",
      " 20  HUM     78584 non-null  object \n",
      " 21  UVB     0 non-null      float64\n",
      " 22  Solra   0 non-null      float64\n",
      " 23  CH4     0 non-null      float64\n",
      " 24  NMHC    0 non-null      float64\n",
      " 25  THC     0 non-null      float64\n",
      " 26  Hg      0 non-null      float64\n",
      " 27  GCO2    0 non-null      float64\n",
      " 28  OC      0 non-null      float64\n",
      " 29  EC      0 non-null      float64\n",
      " 30  TC      0 non-null      float64\n",
      " 31  Vis R   0 non-null      float64\n",
      " 32  NH3     0 non-null      float64\n",
      " 33  H2O     0 non-null      float64\n",
      " 34  C12     0 non-null      float64\n",
      " 35  C13     0 non-null      float64\n",
      " 36  D12     0 non-null      float64\n",
      " 37  D13     0 non-null      float64\n",
      " 38  TMI     0 non-null      float64\n",
      " 39  A_BC1   0 non-null      float64\n",
      " 40  A_BC2   0 non-null      float64\n",
      " 41  H_BC1   0 non-null      float64\n",
      " 42  H_BC9   0 non-null      float64\n",
      " 43  A_BC3   0 non-null      float64\n",
      " 44  A_BC4   0 non-null      float64\n",
      " 45  CO_임시   0 non-null      float64\n",
      " 46  PM10_1  0 non-null      float64\n",
      " 47  PM10_2  0 non-null      float64\n",
      " 48  PM10_3  0 non-null      float64\n",
      " 49  PM10_4  0 non-null      float64\n",
      " 50  PM10_5  0 non-null      float64\n",
      " 51  PM25_1  0 non-null      float64\n",
      " 52  PM25_2  0 non-null      float64\n",
      " 53  PM25_3  0 non-null      float64\n",
      " 54  PM25_4  0 non-null      float64\n",
      " 55  PM25_5  0 non-null      float64\n",
      "dtypes: float64(38), int64(5), object(13)\n",
      "memory usage: 33.6+ MB\n",
      "None\n"
     ]
    }
   ],
   "source": [
    "print(TMS_seongdong.info())"
   ]
  },
  {
   "cell_type": "code",
   "execution_count": 28,
   "id": "a4c5af51-a973-40b0-8287-d5b5031c9757",
   "metadata": {},
   "outputs": [
    {
     "name": "stdout",
     "output_type": "stream",
     "text": [
      "<class 'pandas.core.frame.DataFrame'>\n",
      "RangeIndex: 78613 entries, 0 to 78612\n",
      "Data columns (total 56 columns):\n",
      " #   Column  Non-Null Count  Dtype  \n",
      "---  ------  --------------  -----  \n",
      " 0   년       78613 non-null  int64  \n",
      " 1   월       78613 non-null  int64  \n",
      " 2   일       78613 non-null  int64  \n",
      " 3   시       78613 non-null  int64  \n",
      " 4   분       78613 non-null  int64  \n",
      " 5   측정소     78613 non-null  object \n",
      " 6   PM2.5   78613 non-null  object \n",
      " 7   PM10    78613 non-null  object \n",
      " 8   TSP     0 non-null      float64\n",
      " 9   PM1.0   0 non-null      float64\n",
      " 10  NO      78613 non-null  object \n",
      " 11  NO2     78613 non-null  object \n",
      " 12  NOx     78613 non-null  object \n",
      " 13  CO      78613 non-null  object \n",
      " 14  O3      78613 non-null  object \n",
      " 15  SO2     78613 non-null  object \n",
      " 16  WD      78613 non-null  object \n",
      " 17  WS      78613 non-null  object \n",
      " 18  TEMP    78613 non-null  object \n",
      " 19  UVA     0 non-null      float64\n",
      " 20  HUM     78613 non-null  object \n",
      " 21  UVB     0 non-null      float64\n",
      " 22  Solra   0 non-null      float64\n",
      " 23  CH4     0 non-null      float64\n",
      " 24  NMHC    0 non-null      float64\n",
      " 25  THC     0 non-null      float64\n",
      " 26  Hg      0 non-null      float64\n",
      " 27  GCO2    0 non-null      float64\n",
      " 28  OC      0 non-null      float64\n",
      " 29  EC      0 non-null      float64\n",
      " 30  TC      0 non-null      float64\n",
      " 31  Vis R   0 non-null      float64\n",
      " 32  NH3     0 non-null      float64\n",
      " 33  H2O     0 non-null      float64\n",
      " 34  C12     0 non-null      float64\n",
      " 35  C13     0 non-null      float64\n",
      " 36  D12     0 non-null      float64\n",
      " 37  D13     0 non-null      float64\n",
      " 38  TMI     0 non-null      float64\n",
      " 39  A_BC1   0 non-null      float64\n",
      " 40  A_BC2   0 non-null      float64\n",
      " 41  H_BC1   0 non-null      float64\n",
      " 42  H_BC9   0 non-null      float64\n",
      " 43  A_BC3   0 non-null      float64\n",
      " 44  A_BC4   0 non-null      float64\n",
      " 45  CO_임시   0 non-null      float64\n",
      " 46  PM10_1  0 non-null      float64\n",
      " 47  PM10_2  0 non-null      float64\n",
      " 48  PM10_3  0 non-null      float64\n",
      " 49  PM10_4  0 non-null      float64\n",
      " 50  PM10_5  0 non-null      float64\n",
      " 51  PM25_1  0 non-null      float64\n",
      " 52  PM25_2  0 non-null      float64\n",
      " 53  PM25_3  0 non-null      float64\n",
      " 54  PM25_4  0 non-null      float64\n",
      " 55  PM25_5  0 non-null      float64\n",
      "dtypes: float64(38), int64(5), object(13)\n",
      "memory usage: 33.6+ MB\n",
      "None\n"
     ]
    }
   ],
   "source": [
    "print(TMS_mapo.info())"
   ]
  },
  {
   "cell_type": "code",
   "execution_count": 29,
   "id": "b98e2369-f616-4ead-8b33-87f9f6a5cd15",
   "metadata": {},
   "outputs": [
    {
     "name": "stdout",
     "output_type": "stream",
     "text": [
      "<class 'pandas.core.frame.DataFrame'>\n",
      "RangeIndex: 78614 entries, 0 to 78613\n",
      "Data columns (total 56 columns):\n",
      " #   Column  Non-Null Count  Dtype  \n",
      "---  ------  --------------  -----  \n",
      " 0   년       78614 non-null  int64  \n",
      " 1   월       78614 non-null  int64  \n",
      " 2   일       78614 non-null  int64  \n",
      " 3   시       78614 non-null  int64  \n",
      " 4   분       78614 non-null  int64  \n",
      " 5   측정소     78614 non-null  object \n",
      " 6   PM2.5   78614 non-null  object \n",
      " 7   PM10    78614 non-null  object \n",
      " 8   TSP     0 non-null      float64\n",
      " 9   PM1.0   78614 non-null  object \n",
      " 10  NO      78614 non-null  object \n",
      " 11  NO2     78614 non-null  object \n",
      " 12  NOx     78614 non-null  object \n",
      " 13  CO      78614 non-null  object \n",
      " 14  O3      78614 non-null  object \n",
      " 15  SO2     78614 non-null  object \n",
      " 16  WD      78614 non-null  object \n",
      " 17  WS      78614 non-null  object \n",
      " 18  TEMP    78614 non-null  object \n",
      " 19  UVA     0 non-null      float64\n",
      " 20  HUM     78614 non-null  object \n",
      " 21  UVB     0 non-null      float64\n",
      " 22  Solra   0 non-null      float64\n",
      " 23  CH4     0 non-null      float64\n",
      " 24  NMHC    0 non-null      float64\n",
      " 25  THC     0 non-null      float64\n",
      " 26  Hg      0 non-null      float64\n",
      " 27  GCO2    0 non-null      float64\n",
      " 28  OC      25917 non-null  object \n",
      " 29  EC      25917 non-null  object \n",
      " 30  TC      25917 non-null  object \n",
      " 31  Vis R   25917 non-null  object \n",
      " 32  NH3     25920 non-null  object \n",
      " 33  H2O     25920 non-null  object \n",
      " 34  C12     0 non-null      float64\n",
      " 35  C13     0 non-null      float64\n",
      " 36  D12     0 non-null      float64\n",
      " 37  D13     0 non-null      float64\n",
      " 38  TMI     0 non-null      float64\n",
      " 39  A_BC1   25920 non-null  object \n",
      " 40  A_BC2   25920 non-null  object \n",
      " 41  H_BC1   0 non-null      float64\n",
      " 42  H_BC9   0 non-null      float64\n",
      " 43  A_BC3   0 non-null      float64\n",
      " 44  A_BC4   0 non-null      float64\n",
      " 45  CO_임시   0 non-null      float64\n",
      " 46  PM10_1  0 non-null      float64\n",
      " 47  PM10_2  0 non-null      float64\n",
      " 48  PM10_3  0 non-null      float64\n",
      " 49  PM10_4  0 non-null      float64\n",
      " 50  PM10_5  0 non-null      float64\n",
      " 51  PM25_1  0 non-null      float64\n",
      " 52  PM25_2  0 non-null      float64\n",
      " 53  PM25_3  0 non-null      float64\n",
      " 54  PM25_4  0 non-null      float64\n",
      " 55  PM25_5  0 non-null      float64\n",
      "dtypes: float64(29), int64(5), object(22)\n",
      "memory usage: 33.6+ MB\n",
      "None\n"
     ]
    }
   ],
   "source": [
    "print(TMS_gwangjin.info())"
   ]
  },
  {
   "cell_type": "code",
   "execution_count": 30,
   "id": "8adf9dd4-17fc-4dde-96bb-18e626f2da49",
   "metadata": {},
   "outputs": [
    {
     "name": "stdout",
     "output_type": "stream",
     "text": [
      "<class 'pandas.core.frame.DataFrame'>\n",
      "RangeIndex: 78615 entries, 0 to 78614\n",
      "Data columns (total 56 columns):\n",
      " #   Column  Non-Null Count  Dtype  \n",
      "---  ------  --------------  -----  \n",
      " 0   년       78615 non-null  int64  \n",
      " 1   월       78615 non-null  int64  \n",
      " 2   일       78615 non-null  int64  \n",
      " 3   시       78615 non-null  int64  \n",
      " 4   분       78615 non-null  int64  \n",
      " 5   측정소     78615 non-null  object \n",
      " 6   PM2.5   78615 non-null  object \n",
      " 7   PM10    78615 non-null  object \n",
      " 8   TSP     0 non-null      float64\n",
      " 9   PM1.0   0 non-null      float64\n",
      " 10  NO      78615 non-null  object \n",
      " 11  NO2     78615 non-null  object \n",
      " 12  NOx     78615 non-null  object \n",
      " 13  CO      78615 non-null  object \n",
      " 14  O3      78615 non-null  object \n",
      " 15  SO2     78615 non-null  object \n",
      " 16  WD      78615 non-null  object \n",
      " 17  WS      78615 non-null  object \n",
      " 18  TEMP    78615 non-null  object \n",
      " 19  UVA     0 non-null      float64\n",
      " 20  HUM     78615 non-null  object \n",
      " 21  UVB     0 non-null      float64\n",
      " 22  Solra   0 non-null      float64\n",
      " 23  CH4     0 non-null      float64\n",
      " 24  NMHC    0 non-null      float64\n",
      " 25  THC     0 non-null      float64\n",
      " 26  Hg      0 non-null      float64\n",
      " 27  GCO2    0 non-null      float64\n",
      " 28  OC      0 non-null      float64\n",
      " 29  EC      0 non-null      float64\n",
      " 30  TC      0 non-null      float64\n",
      " 31  Vis R   0 non-null      float64\n",
      " 32  NH3     0 non-null      float64\n",
      " 33  H2O     0 non-null      float64\n",
      " 34  C12     0 non-null      float64\n",
      " 35  C13     0 non-null      float64\n",
      " 36  D12     0 non-null      float64\n",
      " 37  D13     0 non-null      float64\n",
      " 38  TMI     0 non-null      float64\n",
      " 39  A_BC1   0 non-null      float64\n",
      " 40  A_BC2   0 non-null      float64\n",
      " 41  H_BC1   0 non-null      float64\n",
      " 42  H_BC9   0 non-null      float64\n",
      " 43  A_BC3   0 non-null      float64\n",
      " 44  A_BC4   0 non-null      float64\n",
      " 45  CO_임시   0 non-null      float64\n",
      " 46  PM10_1  0 non-null      float64\n",
      " 47  PM10_2  0 non-null      float64\n",
      " 48  PM10_3  0 non-null      float64\n",
      " 49  PM10_4  0 non-null      float64\n",
      " 50  PM10_5  0 non-null      float64\n",
      " 51  PM25_1  0 non-null      float64\n",
      " 52  PM25_2  0 non-null      float64\n",
      " 53  PM25_3  0 non-null      float64\n",
      " 54  PM25_4  0 non-null      float64\n",
      " 55  PM25_5  0 non-null      float64\n",
      "dtypes: float64(38), int64(5), object(13)\n",
      "memory usage: 33.6+ MB\n",
      "None\n"
     ]
    }
   ],
   "source": [
    "print(TMS_gangdong.info())"
   ]
  },
  {
   "cell_type": "markdown",
   "id": "70030cd4-f100-46b9-842b-6b2f5382a945",
   "metadata": {},
   "source": [
    "#### 데이터 요소파악"
   ]
  },
  {
   "cell_type": "code",
   "execution_count": 78,
   "id": "46c14c94-1dbf-4b96-aefa-e49c7ca02a3f",
   "metadata": {},
   "outputs": [
    {
     "name": "stdout",
     "output_type": "stream",
     "text": [
      "[1 2 3 4 5 6 7 8 9]\n",
      "[1 2 3 4 5 6 7 8 9]\n",
      "[1 2 3 4 5 6 7 8 9]\n",
      "[1 2 3 4 5 6 7 8 9]\n",
      "[1 2 3 4 5 6 7 8 9]\n",
      "[1 2 3 4 5 6 7 8 9]\n"
     ]
    }
   ],
   "source": [
    "print(TMS['월'].unique())\n",
    "print(TMS_jungnang['월'].unique())\n",
    "print(TMS_seongdong['월'].unique())\n",
    "print(TMS_mapo['월'].unique())\n",
    "print(TMS_gwangjin['월'].unique())\n",
    "print(TMS_gangdong['월'].unique())"
   ]
  },
  {
   "cell_type": "code",
   "execution_count": 82,
   "id": "f94007d5-4f8d-4e8d-ac41-1d77637a7345",
   "metadata": {},
   "outputs": [
    {
     "name": "stdout",
     "output_type": "stream",
     "text": [
      "132 sheet '월' : [ 7.  8.  9. nan]\n",
      "136 sheet '월' : [ 7.  8.  9. nan]\n",
      "502 sheet '월' : [ 1.  2.  3.  4.  5.  6.  7.  8.  9. nan]\n",
      "503 sheet '월' : [ 1.  2.  3.  4.  5.  6.  7.  8.  9. nan]\n",
      "531 sheet '월' : [ 1.  2.  3.  4.  5.  6.  7.  8.  9. nan]\n",
      "572 sheet '월' : [ 1.  2.  3.  4.  5.  6.  7.  8.  9. nan]\n",
      "573 sheet '월' : [ 1.  2.  3.  4.  5.  6.  7.  8.  9. nan]\n",
      "625 sheet '월' : [ 1.  2.  3.  4.  5.  6.  7.  8.  9. nan]\n",
      "711 sheet '월' : [ 1.  2.  3.  4.  5.  6.  7.  8.  9. nan]\n",
      "789 sheet '월' : [ 1.  2.  3.  4.  5.  6.  7.  8.  9. nan]\n",
      "792 sheet '월' : [ 1.  2.  3.  4.  5.  6.  7.  8.  9. nan]\n"
     ]
    }
   ],
   "source": [
    "# 랩코_강동구 '월' 열 확인\n",
    "for sheet in sheet_names_GA:\n",
    "    df = gangdong.parse(sheet)\n",
    "    print(f\"{sheet} sheet '월' :\", df['월'].unique())"
   ]
  },
  {
   "cell_type": "code",
   "execution_count": 83,
   "id": "7378c74b-6fc8-425d-b0a1-34aa70d4f667",
   "metadata": {},
   "outputs": [
    {
     "name": "stdout",
     "output_type": "stream",
     "text": [
      "112 sheet '월' : [ 7.  8.  9. nan]\n",
      "113 sheet '월' : [ 7.  8.  9. nan]\n",
      "508 sheet '월' : [ 1.  2.  3.  4.  5.  6.  7.  8.  9. nan]\n",
      "536 sheet '월' : [ 1.  2.  3.  4.  5.  6.  7.  8.  9. nan]\n",
      "537 sheet '월' : [ 1.  2.  3.  4.  5.  6.  7.  8.  9. nan]\n",
      "566 sheet '월' : [ 1.  2.  3.  4.  5.  6.  7.  8.  9. nan]\n",
      "582 sheet '월' : [ 1.  2.  3.  4.  5.  6.  7.  8.  9. nan]\n",
      "583 sheet '월' : [ 1.  2.  3.  4.  5.  6.  7.  8.  9. nan]\n",
      "629 sheet '월' : [ 1.  2.  3.  4.  5.  6.  7.  8.  9. nan]\n",
      "716 sheet '월' : [ 1.  2.  3.  4.  5.  6.  7.  8.  9. nan]\n",
      "744 sheet '월' : [ 1.  2.  3.  4.  5.  6.  7.  8.  9. nan]\n",
      "749 sheet '월' : [ 1.  2.  3.  4.  5.  6.  7.  8.  9. nan]\n",
      "794 sheet '월' : [ 1.  2.  3.  4.  5.  6.  7.  8.  9. nan]\n"
     ]
    }
   ],
   "source": [
    "# 랩코_광진구 '월' 열 확인\n",
    "for sheet in sheet_names_GW:\n",
    "    df = gwangjin.parse(sheet)\n",
    "    print(f\"{sheet} sheet '월' :\", df['월'].unique())"
   ]
  },
  {
   "cell_type": "code",
   "execution_count": null,
   "id": "d2c64da2-ac83-4d5b-acc6-426c76f93949",
   "metadata": {},
   "outputs": [
    {
     "name": "stdout",
     "output_type": "stream",
     "text": [
      "135 sheet '월' : [ 7.  8.  9. nan]\n",
      "137 sheet '월' : [ 7.  8.  9. nan]\n",
      "515 sheet '월' : [ 1.  2.  3.  4.  5.  6.  7.  8.  9. nan]\n",
      "516 sheet '월' : [ 1.  2.  3.  4.  5.  6.  7.  8.  9. nan]\n",
      "599 sheet '월' : [ 1.  2.  3.  4.  5.  6.  7.  8.  9. nan]\n",
      "600 sheet '월' : [ 1.  2.  3.  4.  5.  6.  7.  8.  9. nan]\n",
      "637 sheet '월' : [ 1.  2.  3.  4.  5.  6.  7.  8.  9. nan]\n",
      "706 sheet '월' : [ 1.  2.  3.  4.  5.  6.  7.  8.  9. nan]\n",
      "707 sheet '월' : [ 1.  2.  3.  4.  5.  6.  7.  8.  9. nan]\n"
     ]
    }
   ],
   "source": [
    "# 랩코_마포구 '월' 열 확인\n",
    "for sheet in sheet_names_M:\n",
    "    df = mapo.parse(sheet)\n",
    "    print(f\"{sheet} sheet '월' :\", df['월'].unique())"
   ]
  },
  {
   "cell_type": "code",
   "execution_count": null,
   "id": "86e60b28-8698-493d-8d28-64ccf026fa32",
   "metadata": {},
   "outputs": [],
   "source": [
    "# 랩코_성동구 '월' 열 확인\n",
    "for sheet in sheet_names_S:\n",
    "    df = seongdong.parse(sheet)\n",
    "    print(f\"{sheet} sheet '월' :\", df['월'].unique())"
   ]
  },
  {
   "cell_type": "code",
   "execution_count": null,
   "id": "f1653821-0e42-48c3-bf5b-e196b07fa10c",
   "metadata": {},
   "outputs": [],
   "source": [
    "# 랩코_중랑구 '월' 열 확인\n",
    "for sheet in sheet_names_J:\n",
    "    df = jungnang.parse(sheet)\n",
    "    print(f\"{sheet} sheet '월' :\", df['월'].unique())"
   ]
  },
  {
   "cell_type": "code",
   "execution_count": null,
   "id": "64909804-5278-4bbd-98e2-00d969874a84",
   "metadata": {},
   "outputs": [],
   "source": []
  }
 ],
 "metadata": {
  "kernelspec": {
   "display_name": "Python 3 (ipykernel)",
   "language": "python",
   "name": "python3"
  },
  "language_info": {
   "codemirror_mode": {
    "name": "ipython",
    "version": 3
   },
   "file_extension": ".py",
   "mimetype": "text/x-python",
   "name": "python",
   "nbconvert_exporter": "python",
   "pygments_lexer": "ipython3",
   "version": "3.11.9"
  }
 },
 "nbformat": 4,
 "nbformat_minor": 5
}
