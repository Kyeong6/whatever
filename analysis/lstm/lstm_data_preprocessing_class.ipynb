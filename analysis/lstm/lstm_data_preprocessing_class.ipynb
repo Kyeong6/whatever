{
 "cells": [
  {
   "cell_type": "markdown",
   "id": "3ec71c5d",
   "metadata": {},
   "source": [
    "# LSTM Data preprocessing\n",
    "\n",
    "- LSTM을 실행시키기 위한 전처리 과정을 포함하는 클래스 구성"
   ]
  }
 ],
 "metadata": {
  "kernelspec": {
   "display_name": "eatceed_analyze",
   "language": "python",
   "name": "eatceed_analyze"
  },
  "language_info": {
   "codemirror_mode": {
    "name": "ipython",
    "version": 3
   },
   "file_extension": ".py",
   "mimetype": "text/x-python",
   "name": "python",
   "nbconvert_exporter": "python",
   "pygments_lexer": "ipython3",
   "version": "3.12.2"
  }
 },
 "nbformat": 4,
 "nbformat_minor": 5
}
